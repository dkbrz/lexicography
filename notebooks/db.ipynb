{
 "cells": [
  {
   "cell_type": "code",
   "execution_count": 1,
   "metadata": {},
   "outputs": [],
   "source": [
    "import sqlite3\n",
    "from collections import defaultdict"
   ]
  },
  {
   "cell_type": "code",
   "execution_count": 2,
   "metadata": {},
   "outputs": [
    {
     "data": {
      "text/plain": [
       "'/home/dkbrz/GitHub/lexicography/languages/bg_ru/bg-ru.align'"
      ]
     },
     "execution_count": 2,
     "metadata": {},
     "output_type": "execute_result"
    }
   ],
   "source": [
    "PATH = '/home/dkbrz/GitHub/lexicography/languages/'\n",
    "\n",
    "lang1 = 'bg'\n",
    "lang2 = 'ru'\n",
    "\n",
    "lang1_token = '{}{}_{}/{}_token.txt'.format(PATH, lang1, lang2, lang1)\n",
    "lang1_lemma = '{}{}_{}/{}_align.txt'.format(PATH, lang1, lang2, lang1)\n",
    "lang2_token = '{}{}_{}/{}_token.txt'.format(PATH, lang1, lang2, lang2)\n",
    "lang2_lemma = '{}{}_{}/{}_align.txt'.format(PATH, lang1, lang2, lang2)\n",
    "\n",
    "alignment = '{}{}_{}/{}-{}.align'.format(PATH, lang1, lang2, lang1, lang2)\n",
    "alignment"
   ]
  },
  {
   "cell_type": "code",
   "execution_count": 3,
   "metadata": {},
   "outputs": [
    {
     "data": {
      "text/plain": [
       "(117342707, 1014705)"
      ]
     },
     "execution_count": 3,
     "metadata": {},
     "output_type": "execute_result"
    }
   ],
   "source": [
    "lang1_dict = defaultdict(int)\n",
    "k = 0\n",
    "for line in open(lang1_lemma):\n",
    "    phrase = line.strip().split()\n",
    "    for word in phrase:\n",
    "        lang1_dict[word] += 1\n",
    "        k += 1\n",
    "k, len(lang1_dict)"
   ]
  },
  {
   "cell_type": "code",
   "execution_count": 4,
   "metadata": {},
   "outputs": [
    {
     "data": {
      "text/plain": [
       "(123086415, 881582)"
      ]
     },
     "execution_count": 4,
     "metadata": {},
     "output_type": "execute_result"
    }
   ],
   "source": [
    "lang2_dict = defaultdict(int)\n",
    "k = 0\n",
    "for line in open(lang2_lemma):\n",
    "    phrase = line.strip().split()\n",
    "    for word in phrase:\n",
    "        lang2_dict[word] += 1\n",
    "        k += 1\n",
    "k, len(lang2_dict)"
   ]
  },
  {
   "cell_type": "code",
   "execution_count": 5,
   "metadata": {},
   "outputs": [],
   "source": [
    "GOOD = set(['VERB', 'NOUN', 'ADV', 'ADJ'])"
   ]
  },
  {
   "cell_type": "code",
   "execution_count": 6,
   "metadata": {},
   "outputs": [
    {
     "data": {
      "text/plain": [
       "21649"
      ]
     },
     "execution_count": 6,
     "metadata": {},
     "output_type": "execute_result"
    }
   ],
   "source": [
    "n = 0\n",
    "lang1_set = set()\n",
    "for i in sorted(lang1_dict, key=lang1_dict.get, reverse=True):\n",
    "    #print (i, lang1_dict[i])\n",
    "    data = i.split('_')\n",
    "    if lang1_dict[i] > 100 and data[1] in GOOD:\n",
    "        n += 1\n",
    "        lang1_set.update([i])\n",
    "        #print (i, lang1_dict[i])\n",
    "    #if n == 500:\n",
    "    #    break\n",
    "n"
   ]
  },
  {
   "cell_type": "code",
   "execution_count": 7,
   "metadata": {},
   "outputs": [
    {
     "data": {
      "text/plain": [
       "22730"
      ]
     },
     "execution_count": 7,
     "metadata": {},
     "output_type": "execute_result"
    }
   ],
   "source": [
    "n = 0\n",
    "lang2_set = set()\n",
    "for i in sorted(lang2_dict, key=lang2_dict.get, reverse=True):\n",
    "    #print (i, lang1_dict[i])\n",
    "    data = i.split('_')\n",
    "    if lang2_dict[i] > 100 and data[1] in GOOD:\n",
    "        n += 1\n",
    "        lang2_set.update([i])\n",
    "        #print (i, lang1_dict[i])\n",
    "    #if n == 500:\n",
    "    #    break\n",
    "n"
   ]
  },
  {
   "cell_type": "code",
   "execution_count": 8,
   "metadata": {},
   "outputs": [
    {
     "data": {
      "text/plain": [
       "(21649, 22730)"
      ]
     },
     "execution_count": 8,
     "metadata": {},
     "output_type": "execute_result"
    }
   ],
   "source": [
    "len(lang1_set), len(lang2_set)"
   ]
  },
  {
   "cell_type": "code",
   "execution_count": 9,
   "metadata": {},
   "outputs": [
    {
     "name": "stdout",
     "output_type": "stream",
     "text": [
      "('Досега в \" Сибир \" ... Тигър !\\n', 'досега_ADV_0 в_ADP_0 \"_PUNCT_0 Сибир_PROPN_0 \"_PUNCT_0 ..._PUNCT_0 тигър_NOUN_0 !_PUNCT_0\\n', 'Ранее в Сибири . . . ( Неразборчиво кричит )\\n', 'ранее_ADV_0 в_ADP_1 Сибирь_PROPN_0 ._PUNCT_0 ._PUNCT_0 ._PUNCT_0 (_PUNCT_0 неразборчиво_ADV_0 кричать_VERB_0 )_PUNCT_0\\n', '0-0 1-1 3-2 4-6 5-3 5-4 5-5 6-7 7-9\\n')\n",
      "[(0, 0), (1, 1), (3, 2), (4, 6), (5, 3), (5, 4), (5, 5), (6, 7), (7, 9)]\n",
      "досега_ADV_0 ранее_ADV_0\n",
      "в_ADP_0 в_ADP_1\n",
      "Сибир_PROPN_0 Сибирь_PROPN_0\n",
      "\"_PUNCT_0 (_PUNCT_0\n",
      "..._PUNCT_0 ._PUNCT_0\n",
      "..._PUNCT_0 ._PUNCT_0\n",
      "..._PUNCT_0 ._PUNCT_0\n",
      "тигър_NOUN_0 неразборчиво_ADV_0\n",
      "!_PUNCT_0 )_PUNCT_0\n"
     ]
    }
   ],
   "source": [
    "files = [open(lang1_token), open(lang1_lemma), open(lang2_token), open(lang2_lemma), open(alignment)]\n",
    "\n",
    "for lines in zip(*files):\n",
    "    #assert len(lines[0].split()) == len(lines[1].split()) \n",
    "    print (lines)\n",
    "    align_phrase = [tuple(int(x) for x in i.split('-')) for i in lines[-1].split()]\n",
    "    print (align_phrase)\n",
    "    lang1_phrase = lines[1].split()\n",
    "    lang2_phrase = lines[3].split()\n",
    "    for i in align_phrase:\n",
    "        print (lang1_phrase[i[0]], lang2_phrase[i[1]])\n",
    "    break"
   ]
  },
  {
   "cell_type": "code",
   "execution_count": 10,
   "metadata": {},
   "outputs": [
    {
     "data": {
      "text/plain": [
       "(33228932, 67018073, 30407034)"
      ]
     },
     "execution_count": 10,
     "metadata": {},
     "output_type": "execute_result"
    }
   ],
   "source": [
    "files = [open(lang1_token), open(lang1_lemma), open(lang2_token), open(lang2_lemma), open(alignment)]\n",
    "\n",
    "over100_both = 0\n",
    "under100_both = 0\n",
    "diff = 0\n",
    "for lines in zip(*files):\n",
    "    #assert len(lines[0].split()) == len(lines[1].split()) \n",
    "    #print (lines)\n",
    "    align_phrase = [tuple(int(x) for x in i.split('-')) for i in lines[-1].split()]\n",
    "    #print (align_phrase)\n",
    "    lang1_phrase = lines[1].split()\n",
    "    lang2_phrase = lines[3].split()\n",
    "    for i in align_phrase:\n",
    "        #print (lang1_phrase[i[0]], lang2_phrase[i[1]])\n",
    "        if lang1_phrase[i[0]] in lang1_set and lang2_phrase[i[1]] in lang2_set:\n",
    "            over100_both += 1\n",
    "        elif lang1_phrase[i[0]] not in lang1_set and lang2_phrase[i[1]] not in lang2_set:\n",
    "            under100_both += 1\n",
    "        else:\n",
    "            diff += 1\n",
    "over100_both, under100_both, diff\n",
    "#(5508537, 513065, 1371246)"
   ]
  },
  {
   "cell_type": "code",
   "execution_count": 11,
   "metadata": {},
   "outputs": [
    {
     "data": {
      "text/plain": [
       "(0.25432762932036107, 0.5129429867835926, 0.23272938389604625)"
      ]
     },
     "execution_count": 11,
     "metadata": {},
     "output_type": "execute_result"
    }
   ],
   "source": [
    "s = over100_both + under100_both +diff\n",
    "over100_both/s, under100_both/s, diff/s"
   ]
  },
  {
   "cell_type": "code",
   "execution_count": 12,
   "metadata": {},
   "outputs": [],
   "source": [
    "import warnings\n",
    "warnings.filterwarnings(\"ignore\")\n",
    "from collections import defaultdict\n",
    "from tqdm.autonotebook import tqdm\n",
    "\n",
    "import pandas as pd\n",
    "import mysql.connector\n",
    "\n",
    "mydb = mysql.connector.connect(\n",
    "  host=\"localhost\",\n",
    "  user=\"root\",\n",
    "  passwd='password',\n",
    "  database=\"test_bilingual\")\n",
    "mycursor = mydb.cursor()"
   ]
  },
  {
   "cell_type": "code",
   "execution_count": 13,
   "metadata": {},
   "outputs": [],
   "source": [
    "lang = 4\n",
    "for i in sorted(lang1_set):\n",
    "    data = i.split('_')\n",
    "    sense = int(data[-1])\n",
    "    pos = data[-2]\n",
    "    lemma = '_'.join(data[:-2])\n",
    "    #print (lemma, pos, data)\n",
    "    if pos == 'PUNCT':\n",
    "        pass\n",
    "    else:\n",
    "        mycursor.execute('INSERT INTO dictionary (lang, lemma, pos, sense) VALUES (%s, %s, %s, %s)',\n",
    "                        (lang, lemma, pos, sense))"
   ]
  },
  {
   "cell_type": "code",
   "execution_count": 14,
   "metadata": {},
   "outputs": [],
   "source": [
    "mycursor.execute('SELECT * FROM dictionary WHERE lang=2')\n",
    "result = mycursor.fetchall()\n",
    "lang_dict = {}\n",
    "for i in result:\n",
    "    lang_dict['{}_{}_{}'.format(i[2], i[3], i[4])] = i[0]\n",
    "del result"
   ]
  },
  {
   "cell_type": "code",
   "execution_count": 16,
   "metadata": {},
   "outputs": [
    {
     "data": {
      "text/plain": [
       "21"
      ]
     },
     "execution_count": 16,
     "metadata": {},
     "output_type": "execute_result"
    }
   ],
   "source": [
    "lang = 2\n",
    "l = 0\n",
    "for i in sorted(lang2_set):\n",
    "    if i not in lang_dict:\n",
    "        data = i.split('_')\n",
    "        sense = int(data[-1])\n",
    "        pos = data[-2]\n",
    "        lemma = '_'.join(data[:-2])\n",
    "        #print (lemma, pos, data)\n",
    "        if pos == 'PUNCT':\n",
    "            pass\n",
    "        else:\n",
    "            mycursor.execute('INSERT INTO dictionary (lang, lemma, pos, sense) VALUES (%s, %s, %s, %s)',\n",
    "                            (lang, lemma, pos, sense))\n",
    "            #pass\n",
    "        l += 1\n",
    "l"
   ]
  },
  {
   "cell_type": "code",
   "execution_count": 17,
   "metadata": {},
   "outputs": [],
   "source": [
    "mydb.commit()"
   ]
  },
  {
   "cell_type": "code",
   "execution_count": 18,
   "metadata": {},
   "outputs": [],
   "source": [
    "del lang1_set, lang2_set\n",
    "del lang1_dict, lang2_dict"
   ]
  },
  {
   "cell_type": "code",
   "execution_count": 19,
   "metadata": {},
   "outputs": [],
   "source": [
    "mycursor.execute('SELECT * FROM dictionary WHERE lang=4')\n",
    "result = mycursor.fetchall()\n",
    "lang1_dict = {}\n",
    "for i in result:\n",
    "    lang1_dict['{}_{}_{}'.format(i[2], i[3], i[4])] = i[0]\n",
    "del result"
   ]
  },
  {
   "cell_type": "code",
   "execution_count": 20,
   "metadata": {},
   "outputs": [],
   "source": [
    "mycursor.execute('SELECT * FROM dictionary WHERE lang=2')\n",
    "result = mycursor.fetchall()\n",
    "lang2_dict = {}\n",
    "for i in result:\n",
    "    lang2_dict['{}_{}_{}'.format(i[2], i[3], i[4])] = i[0]\n",
    "del result"
   ]
  },
  {
   "cell_type": "code",
   "execution_count": 21,
   "metadata": {},
   "outputs": [
    {
     "data": {
      "text/plain": [
       "(21649, 27514)"
      ]
     },
     "execution_count": 21,
     "metadata": {},
     "output_type": "execute_result"
    }
   ],
   "source": [
    "len(lang1_dict), len(lang2_dict)"
   ]
  },
  {
   "cell_type": "code",
   "execution_count": 6,
   "metadata": {},
   "outputs": [
    {
     "data": {
      "text/plain": [
       "733"
      ]
     },
     "execution_count": 6,
     "metadata": {},
     "output_type": "execute_result"
    }
   ],
   "source": [
    "lang1_dict['do_VERB_0']"
   ]
  },
  {
   "cell_type": "code",
   "execution_count": 22,
   "metadata": {},
   "outputs": [
    {
     "data": {
      "text/plain": [
       "[(15367602,\n",
       "  'Переклад : Байда До зустрічі в новому сезоні !',\n",
       "  'Переведено специально для aMovies.biz',\n",
       "  1,\n",
       "  2)]"
      ]
     },
     "execution_count": 22,
     "metadata": {},
     "output_type": "execute_result"
    }
   ],
   "source": [
    "mycursor.execute('SELECT * FROM examples ORDER BY id DESC LIMIT 1')\n",
    "mycursor.fetchall()"
   ]
  },
  {
   "cell_type": "code",
   "execution_count": 23,
   "metadata": {},
   "outputs": [],
   "source": [
    "def separate_word(item):\n",
    "    data = i.split('_')\n",
    "    sense = int(data[-1])\n",
    "    pos = data[-2]\n",
    "    lemma = '_'.join(data[:-2])\n",
    "    return lemma, pos, sense"
   ]
  },
  {
   "cell_type": "code",
   "execution_count": 23,
   "metadata": {},
   "outputs": [],
   "source": [
    "mydb.rollback()"
   ]
  },
  {
   "cell_type": "code",
   "execution_count": 24,
   "metadata": {},
   "outputs": [
    {
     "data": {
      "application/vnd.jupyter.widget-view+json": {
       "model_id": "a07903b899b5497fb84303d2f55211e1",
       "version_major": 2,
       "version_minor": 0
      },
      "text/plain": [
       "HBox(children=(IntProgress(value=1, bar_style='info', max=1), HTML(value='')))"
      ]
     },
     "metadata": {},
     "output_type": "display_data"
    },
    {
     "ename": "DataError",
     "evalue": "1264 (22003): Out of range value for column 'id_right' at row 1",
     "output_type": "error",
     "traceback": [
      "\u001b[0;31m---------------------------------------------------------------------------\u001b[0m",
      "\u001b[0;31mDataError\u001b[0m                                 Traceback (most recent call last)",
      "\u001b[0;32m<ipython-input-24-500069961a9c>\u001b[0m in \u001b[0;36m<module>\u001b[0;34m\u001b[0m\n\u001b[1;32m     15\u001b[0m         \u001b[0;32mif\u001b[0m \u001b[0mleft\u001b[0m \u001b[0;32min\u001b[0m \u001b[0mlang1_dict\u001b[0m \u001b[0;32mand\u001b[0m \u001b[0mright\u001b[0m \u001b[0;32min\u001b[0m \u001b[0mlang2_dict\u001b[0m\u001b[0;34m:\u001b[0m\u001b[0;34m\u001b[0m\u001b[0;34m\u001b[0m\u001b[0m\n\u001b[1;32m     16\u001b[0m             mycursor.execute(\"INSERT INTO alignment (id_sent, id_left, id_right, id_lemma_left, id_lemma_right) \\\n\u001b[0;32m---> 17\u001b[0;31m              VALUES (%s, %s, %s, %s, %s)\", (k, i[0], i[1], lang1_dict[left], lang2_dict[right],))\n\u001b[0m\u001b[1;32m     18\u001b[0m             \u001b[0mtot\u001b[0m \u001b[0;34m+=\u001b[0m \u001b[0;36m1\u001b[0m\u001b[0;34m\u001b[0m\u001b[0;34m\u001b[0m\u001b[0m\n\u001b[1;32m     19\u001b[0m \u001b[0;34m\u001b[0m\u001b[0m\n",
      "\u001b[0;32m~/.local/lib/python3.6/site-packages/mysql/connector/cursor.py\u001b[0m in \u001b[0;36mexecute\u001b[0;34m(self, operation, params, multi)\u001b[0m\n\u001b[1;32m    557\u001b[0m         \u001b[0;32melse\u001b[0m\u001b[0;34m:\u001b[0m\u001b[0;34m\u001b[0m\u001b[0;34m\u001b[0m\u001b[0m\n\u001b[1;32m    558\u001b[0m             \u001b[0;32mtry\u001b[0m\u001b[0;34m:\u001b[0m\u001b[0;34m\u001b[0m\u001b[0;34m\u001b[0m\u001b[0m\n\u001b[0;32m--> 559\u001b[0;31m                 \u001b[0mself\u001b[0m\u001b[0;34m.\u001b[0m\u001b[0m_handle_result\u001b[0m\u001b[0;34m(\u001b[0m\u001b[0mself\u001b[0m\u001b[0;34m.\u001b[0m\u001b[0m_connection\u001b[0m\u001b[0;34m.\u001b[0m\u001b[0mcmd_query\u001b[0m\u001b[0;34m(\u001b[0m\u001b[0mstmt\u001b[0m\u001b[0;34m)\u001b[0m\u001b[0;34m)\u001b[0m\u001b[0;34m\u001b[0m\u001b[0;34m\u001b[0m\u001b[0m\n\u001b[0m\u001b[1;32m    560\u001b[0m             \u001b[0;32mexcept\u001b[0m \u001b[0merrors\u001b[0m\u001b[0;34m.\u001b[0m\u001b[0mInterfaceError\u001b[0m\u001b[0;34m:\u001b[0m\u001b[0;34m\u001b[0m\u001b[0;34m\u001b[0m\u001b[0m\n\u001b[1;32m    561\u001b[0m                 \u001b[0;32mif\u001b[0m \u001b[0mself\u001b[0m\u001b[0;34m.\u001b[0m\u001b[0m_connection\u001b[0m\u001b[0;34m.\u001b[0m\u001b[0m_have_next_result\u001b[0m\u001b[0;34m:\u001b[0m  \u001b[0;31m# pylint: disable=W0212\u001b[0m\u001b[0;34m\u001b[0m\u001b[0;34m\u001b[0m\u001b[0m\n",
      "\u001b[0;32m~/.local/lib/python3.6/site-packages/mysql/connector/connection.py\u001b[0m in \u001b[0;36mcmd_query\u001b[0;34m(self, query, raw, buffered, raw_as_string)\u001b[0m\n\u001b[1;32m    492\u001b[0m         \u001b[0;32mif\u001b[0m \u001b[0;32mnot\u001b[0m \u001b[0misinstance\u001b[0m\u001b[0;34m(\u001b[0m\u001b[0mquery\u001b[0m\u001b[0;34m,\u001b[0m \u001b[0mbytes\u001b[0m\u001b[0;34m)\u001b[0m\u001b[0;34m:\u001b[0m\u001b[0;34m\u001b[0m\u001b[0;34m\u001b[0m\u001b[0m\n\u001b[1;32m    493\u001b[0m             \u001b[0mquery\u001b[0m \u001b[0;34m=\u001b[0m \u001b[0mquery\u001b[0m\u001b[0;34m.\u001b[0m\u001b[0mencode\u001b[0m\u001b[0;34m(\u001b[0m\u001b[0;34m'utf-8'\u001b[0m\u001b[0;34m)\u001b[0m\u001b[0;34m\u001b[0m\u001b[0;34m\u001b[0m\u001b[0m\n\u001b[0;32m--> 494\u001b[0;31m         \u001b[0mresult\u001b[0m \u001b[0;34m=\u001b[0m \u001b[0mself\u001b[0m\u001b[0;34m.\u001b[0m\u001b[0m_handle_result\u001b[0m\u001b[0;34m(\u001b[0m\u001b[0mself\u001b[0m\u001b[0;34m.\u001b[0m\u001b[0m_send_cmd\u001b[0m\u001b[0;34m(\u001b[0m\u001b[0mServerCmd\u001b[0m\u001b[0;34m.\u001b[0m\u001b[0mQUERY\u001b[0m\u001b[0;34m,\u001b[0m \u001b[0mquery\u001b[0m\u001b[0;34m)\u001b[0m\u001b[0;34m)\u001b[0m\u001b[0;34m\u001b[0m\u001b[0;34m\u001b[0m\u001b[0m\n\u001b[0m\u001b[1;32m    495\u001b[0m \u001b[0;34m\u001b[0m\u001b[0m\n\u001b[1;32m    496\u001b[0m         \u001b[0;32mif\u001b[0m \u001b[0mself\u001b[0m\u001b[0;34m.\u001b[0m\u001b[0m_have_next_result\u001b[0m\u001b[0;34m:\u001b[0m\u001b[0;34m\u001b[0m\u001b[0;34m\u001b[0m\u001b[0m\n",
      "\u001b[0;32m~/.local/lib/python3.6/site-packages/mysql/connector/connection.py\u001b[0m in \u001b[0;36m_handle_result\u001b[0;34m(self, packet)\u001b[0m\n\u001b[1;32m    394\u001b[0m             \u001b[0;32mreturn\u001b[0m \u001b[0mself\u001b[0m\u001b[0;34m.\u001b[0m\u001b[0m_handle_eof\u001b[0m\u001b[0;34m(\u001b[0m\u001b[0mpacket\u001b[0m\u001b[0;34m)\u001b[0m\u001b[0;34m\u001b[0m\u001b[0;34m\u001b[0m\u001b[0m\n\u001b[1;32m    395\u001b[0m         \u001b[0;32melif\u001b[0m \u001b[0mpacket\u001b[0m\u001b[0;34m[\u001b[0m\u001b[0;36m4\u001b[0m\u001b[0;34m]\u001b[0m \u001b[0;34m==\u001b[0m \u001b[0;36m255\u001b[0m\u001b[0;34m:\u001b[0m\u001b[0;34m\u001b[0m\u001b[0;34m\u001b[0m\u001b[0m\n\u001b[0;32m--> 396\u001b[0;31m             \u001b[0;32mraise\u001b[0m \u001b[0merrors\u001b[0m\u001b[0;34m.\u001b[0m\u001b[0mget_exception\u001b[0m\u001b[0;34m(\u001b[0m\u001b[0mpacket\u001b[0m\u001b[0;34m)\u001b[0m\u001b[0;34m\u001b[0m\u001b[0;34m\u001b[0m\u001b[0m\n\u001b[0m\u001b[1;32m    397\u001b[0m \u001b[0;34m\u001b[0m\u001b[0m\n\u001b[1;32m    398\u001b[0m         \u001b[0;31m# We have a text result set\u001b[0m\u001b[0;34m\u001b[0m\u001b[0;34m\u001b[0m\u001b[0;34m\u001b[0m\u001b[0m\n",
      "\u001b[0;31mDataError\u001b[0m: 1264 (22003): Out of range value for column 'id_right' at row 1"
     ]
    }
   ],
   "source": [
    "files = [open(lang1_token), open(lang1_lemma), open(lang2_token), open(lang2_lemma), open(alignment)]\n",
    "\n",
    "k = 15367603\n",
    "for lines in tqdm(zip(*files)):\n",
    "    left_token = lines[0].strip()\n",
    "    right_token = lines[2].strip()\n",
    "    lang1_phrase = lines[1].split()\n",
    "    lang2_phrase = lines[3].split()\n",
    "    align_phrase = [tuple(int(x) for x in i.split('-')) for i in lines[-1].split()]\n",
    "    \n",
    "    tot = 0\n",
    "    for i in align_phrase:\n",
    "        left = lang1_phrase[i[0]]\n",
    "        right = lang2_phrase[i[1]]\n",
    "        if left in lang1_dict and right in lang2_dict:\n",
    "            mycursor.execute(\"INSERT INTO alignment (id_sent, id_left, id_right, id_lemma_left, id_lemma_right) \\\n",
    "             VALUES (%s, %s, %s, %s, %s)\", (k, i[0], i[1], lang1_dict[left], lang2_dict[right],))\n",
    "            tot += 1\n",
    "    \n",
    "    if tot > 0:\n",
    "        mycursor.execute(\"INSERT INTO examples (sent_left, sent_right, lang_left, lang_right) VALUES (%s, %s, 1, 2)\",\n",
    "                    (left_token, right_token,))\n",
    "        k += 1"
   ]
  },
  {
   "cell_type": "code",
   "execution_count": 25,
   "metadata": {},
   "outputs": [],
   "source": [
    "mydb.commit()"
   ]
  },
  {
   "cell_type": "code",
   "execution_count": 13,
   "metadata": {},
   "outputs": [],
   "source": [
    "mycursor.execute('SELECT DISTINCT id_sent FROM alignment')\n",
    "set_ids = set(i[0] for i in mycursor.fetchall())"
   ]
  },
  {
   "cell_type": "code",
   "execution_count": 14,
   "metadata": {},
   "outputs": [
    {
     "data": {
      "text/plain": [
       "594751"
      ]
     },
     "execution_count": 14,
     "metadata": {},
     "output_type": "execute_result"
    }
   ],
   "source": [
    "len(set_ids)"
   ]
  },
  {
   "cell_type": "code",
   "execution_count": 15,
   "metadata": {},
   "outputs": [],
   "source": [
    "mycursor.execute('SELECT DISTINCT id FROM examples')\n",
    "set_ids = set(i[0] for i in mycursor.fetchall())"
   ]
  },
  {
   "cell_type": "code",
   "execution_count": 16,
   "metadata": {},
   "outputs": [
    {
     "data": {
      "text/plain": [
       "594751"
      ]
     },
     "execution_count": 16,
     "metadata": {},
     "output_type": "execute_result"
    }
   ],
   "source": [
    "len(set_ids)"
   ]
  }
 ],
 "metadata": {
  "kernelspec": {
   "display_name": "Python 3",
   "language": "python",
   "name": "python3"
  },
  "language_info": {
   "codemirror_mode": {
    "name": "ipython",
    "version": 3
   },
   "file_extension": ".py",
   "mimetype": "text/x-python",
   "name": "python",
   "nbconvert_exporter": "python",
   "pygments_lexer": "ipython3",
   "version": "3.6.7"
  }
 },
 "nbformat": 4,
 "nbformat_minor": 2
}
