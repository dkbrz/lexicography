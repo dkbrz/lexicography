{
 "cells": [
  {
   "cell_type": "markdown",
   "metadata": {},
   "source": [
    "# Парсинг OPUS\n",
    "Делим файл на два файла: строчка 1 файла соответствует строчке 2 файла"
   ]
  },
  {
   "cell_type": "code",
   "execution_count": 1,
   "metadata": {},
   "outputs": [],
   "source": [
    "from tqdm import tqdm_notebook as tqdm\n",
    "from lxml import etree\n",
    "import re\n",
    "\n",
    "class CleanCorpus:\n",
    "     \n",
    "    def __init__(self):\n",
    "        self.TMX_FILE = ''\n",
    "        self.lang_1 = ''\n",
    "        self.lang_2 = ''\n",
    "        \n",
    "    def find_langs(self):\n",
    "        langs = re.search(r'(.+?)-(.+?).tmx', self.TMX_FILE)\n",
    "        if langs:\n",
    "            self.lang_1 = langs.group(1)\n",
    "            self.lang_2 = langs.group(2)\n",
    "        else:\n",
    "            self.lang_1 = 'in'\n",
    "            self.lang_2 = 'out'\n",
    "            \n",
    "    def parse_tmx_opus_file(self, TMX_FILE):\n",
    "        \"\"\"\n",
    "        Write into two files: lang_1.txt and lang_2.txt\n",
    "        \"\"\"\n",
    "        self.TMX_FILE = TMX_FILE\n",
    "        self.find_langs()\n",
    "        context = etree.iterparse(self.TMX_FILE, tag='tu')\n",
    "        context = iter(context)\n",
    "        with open(self.lang_1 + '.txt', 'a') as file_1, open(self.lang_2 + '.txt', 'a') as file_2:\n",
    "            for event, elem in tqdm(context):\n",
    "                en_ru = elem.findall('tuv')\n",
    "                en = en_ru[0]\n",
    "                ru = en_ru[1]\n",
    "                seg_en = en.find('seg')\n",
    "                seg_ru = ru.find('seg')\n",
    "                en_text = seg_en.text\n",
    "                ru_text = seg_ru.text\n",
    "                file_1.write(en_text + '\\n')\n",
    "                file_2.write(ru_text + '\\n')"
   ]
  },
  {
   "cell_type": "code",
   "execution_count": 2,
   "metadata": {},
   "outputs": [
    {
     "data": {
      "text/plain": [
       "HBox(children=(IntProgress(value=1, bar_style='info', max=1), HTML(value='')))"
      ]
     },
     "metadata": {},
     "output_type": "display_data"
    },
    {
     "name": "stdout",
     "output_type": "stream",
     "text": [
      "\n"
     ]
    }
   ],
   "source": [
    "TMX_FILE = 'en-ru.tmx'\n",
    "CC = CleanCorpus()\n",
    "CC.parse_tmx_opus_file(TMX_FILE)"
   ]
  }
 ],
 "metadata": {
  "kernelspec": {
   "display_name": "Python 3",
   "language": "python",
   "name": "python3"
  },
  "language_info": {
   "codemirror_mode": {
    "name": "ipython",
    "version": 3
   },
   "file_extension": ".py",
   "mimetype": "text/x-python",
   "name": "python",
   "nbconvert_exporter": "python",
   "pygments_lexer": "ipython3",
   "version": "3.7.2"
  }
 },
 "nbformat": 4,
 "nbformat_minor": 2
}
