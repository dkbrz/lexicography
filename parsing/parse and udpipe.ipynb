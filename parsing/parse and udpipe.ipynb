{
 "cells": [
  {
   "cell_type": "markdown",
   "metadata": {},
   "source": [
    "# Парсинг OPUS\n",
    "Делим файл на два файла: строчка 1 файла соответствует строчке 2 файла"
   ]
  },
  {
   "cell_type": "code",
   "execution_count": 1,
   "metadata": {},
   "outputs": [],
   "source": [
    "from tqdm import tqdm_notebook as tqdm\n",
    "from lxml import etree\n",
    "import re\n",
    "\n",
    "class CleanCorpus:\n",
    "     \n",
    "    def __init__(self):\n",
    "        self.TMX_FILE = ''\n",
    "        self.lang_1 = ''\n",
    "        self.lang_2 = ''\n",
    "        \n",
    "    def find_langs(self):\n",
    "        langs = re.search(r'(.+?)-(.+?).tmx', self.TMX_FILE)\n",
    "        if langs:\n",
    "            self.lang_1 = langs.group(1)\n",
    "            self.lang_2 = langs.group(2)\n",
    "        else:\n",
    "            self.lang_1 = 'in'\n",
    "            self.lang_2 = 'out'\n",
    "            \n",
    "    def parse_tmx_opus_file(self, TMX_FILE):\n",
    "        \"\"\"\n",
    "        Write into two files: lang_1.txt and lang_2.txt\n",
    "        \"\"\"\n",
    "        self.TMX_FILE = TMX_FILE\n",
    "        self.find_langs()\n",
    "        context = etree.iterparse(self.TMX_FILE, tag='tu')\n",
    "        context = iter(context)\n",
    "        with open(self.lang_1 + '.txt', 'a') as file_1, open(self.lang_2 + '.txt', 'a') as file_2:\n",
    "            for event, elem in tqdm(context):\n",
    "                en_ru = elem.findall('tuv')\n",
    "                en = en_ru[0]\n",
    "                ru = en_ru[1]\n",
    "                seg_en = en.find('seg')\n",
    "                seg_ru = ru.find('seg')\n",
    "                en_text = seg_en.text\n",
    "                ru_text = seg_ru.text\n",
    "                file_1.write(en_text + '\\n\\n')\n",
    "                file_2.write(ru_text + '\\n\\n')"
   ]
  },
  {
   "cell_type": "code",
   "execution_count": 2,
   "metadata": {},
   "outputs": [
    {
     "data": {
      "application/vnd.jupyter.widget-view+json": {
       "model_id": "b4d75b27e9f74919ba1120ce6d50e536",
       "version_major": 2,
       "version_minor": 0
      },
      "text/plain": [
       "HBox(children=(IntProgress(value=1, bar_style='info', max=1), HTML(value='')))"
      ]
     },
     "metadata": {},
     "output_type": "display_data"
    },
    {
     "name": "stdout",
     "output_type": "stream",
     "text": [
      "\n"
     ]
    }
   ],
   "source": [
    "TMX_FILE = 'en-ru.tmx'\n",
    "CC = CleanCorpus()\n",
    "CC.parse_tmx_opus_file(TMX_FILE)"
   ]
  },
  {
   "cell_type": "markdown",
   "metadata": {},
   "source": [
    "# Парсинг UDPipe"
   ]
  },
  {
   "cell_type": "markdown",
   "metadata": {},
   "source": [
    "На вход - целый файл одного языка, на выходе файл строчка: ```token_1 token2 ... token_n```"
   ]
  },
  {
   "cell_type": "code",
   "execution_count": 1,
   "metadata": {},
   "outputs": [],
   "source": [
    "from parsing import ParserUDpipe"
   ]
  },
  {
   "cell_type": "code",
   "execution_count": 2,
   "metadata": {},
   "outputs": [],
   "source": [
    "MODEL = 'english-partut-ud-2.3-181115.udpipe'"
   ]
  },
  {
   "cell_type": "code",
   "execution_count": 2,
   "metadata": {},
   "outputs": [],
   "source": [
    "#MODEL = 'english-partut-ud-2.3-181115.udpipe'\n",
    "#PATH = 'en.txt'"
   ]
  },
  {
   "cell_type": "code",
   "execution_count": 3,
   "metadata": {},
   "outputs": [],
   "source": [
    "from os import listdir\n",
    "from os.path import isfile, join\n",
    "mypath = 'en'\n",
    "onlyfiles = [f for f in listdir(mypath) if isfile(join(mypath, f))]"
   ]
  },
  {
   "cell_type": "code",
   "execution_count": 4,
   "metadata": {},
   "outputs": [
    {
     "data": {
      "text/plain": [
       "['en_100000.txt', 'en_1000000.txt']"
      ]
     },
     "execution_count": 4,
     "metadata": {},
     "output_type": "execute_result"
    }
   ],
   "source": [
    "onlyfiles = onlyfiles[0:2]\n",
    "onlyfiles"
   ]
  },
  {
   "cell_type": "code",
   "execution_count": null,
   "metadata": {},
   "outputs": [
    {
     "name": "stdout",
     "output_type": "stream",
     "text": [
      "Parsing ./en/en_100000.txt\n"
     ]
    }
   ],
   "source": [
    "for x in onlyfiles:\n",
    "    parser = ParserUDpipe()\n",
    "    parser.parsing2conllu('./en/' + x, 'conllu_' + x, MODEL)\n",
    "    parser.lines2tokens('conllu_' + x, 'token_en', token='form')"
   ]
  },
  {
   "cell_type": "code",
   "execution_count": 4,
   "metadata": {},
   "outputs": [
    {
     "data": {
      "application/vnd.jupyter.widget-view+json": {
       "model_id": "5be40f0fa54149aaa57f7b75061fb37a",
       "version_major": 2,
       "version_minor": 0
      },
      "text/plain": [
       "HBox(children=(IntProgress(value=1, bar_style='info', max=1), HTML(value='')))"
      ]
     },
     "metadata": {},
     "output_type": "display_data"
    },
    {
     "name": "stdout",
     "output_type": "stream",
     "text": [
      "\n",
      "Write into my_lemma_string.txt\n"
     ]
    }
   ],
   "source": [
    "parser.lines2tokens('conllu_my.txt', token='lemma')"
   ]
  },
  {
   "cell_type": "code",
   "execution_count": 5,
   "metadata": {},
   "outputs": [
    {
     "data": {
      "application/vnd.jupyter.widget-view+json": {
       "model_id": "97356205a3394d058215eddde41a6cab",
       "version_major": 2,
       "version_minor": 0
      },
      "text/plain": [
       "HBox(children=(IntProgress(value=1, bar_style='info', max=1), HTML(value='')))"
      ]
     },
     "metadata": {},
     "output_type": "display_data"
    },
    {
     "name": "stdout",
     "output_type": "stream",
     "text": [
      "\n",
      "Write into my_form_string.txt\n"
     ]
    }
   ],
   "source": [
    "parser.lines2tokens('conllu_my.txt', token='form')"
   ]
  },
  {
   "cell_type": "code",
   "execution_count": 6,
   "metadata": {},
   "outputs": [
    {
     "data": {
      "application/vnd.jupyter.widget-view+json": {
       "model_id": "60315e3dd3bb487c8c8aed0ae00383f5",
       "version_major": 2,
       "version_minor": 0
      },
      "text/plain": [
       "HBox(children=(IntProgress(value=1, bar_style='info', max=1), HTML(value='')))"
      ]
     },
     "metadata": {},
     "output_type": "display_data"
    },
    {
     "name": "stdout",
     "output_type": "stream",
     "text": [
      "\n",
      "Write into my_upostag_string.txt\n"
     ]
    }
   ],
   "source": [
    "parser.lines2tokens('conllu_my.txt', token='upostag')"
   ]
  },
  {
   "cell_type": "code",
   "execution_count": 5,
   "metadata": {},
   "outputs": [],
   "source": [
    "lines_per_file = 100000\n",
    "smallfile = None\n",
    "with open('en.txt') as bigfile:\n",
    "    for lineno, line in enumerate(bigfile):\n",
    "        if lineno % lines_per_file == 0:\n",
    "            if smallfile:\n",
    "                smallfile.close()\n",
    "            small_filename = './en/en_{}.txt'.format(lineno + lines_per_file)\n",
    "            smallfile = open(small_filename, \"w\")\n",
    "        smallfile.write(line)\n",
    "    if smallfile:\n",
    "        smallfile.close()"
   ]
  },
  {
   "cell_type": "code",
   "execution_count": null,
   "metadata": {},
   "outputs": [],
   "source": []
  }
 ],
 "metadata": {
  "kernelspec": {
   "display_name": "Python 3",
   "language": "python",
   "name": "python3"
  },
  "language_info": {
   "codemirror_mode": {
    "name": "ipython",
    "version": 3
   },
   "file_extension": ".py",
   "mimetype": "text/x-python",
   "name": "python",
   "nbconvert_exporter": "python",
   "pygments_lexer": "ipython3",
   "version": "3.7.2"
  }
 },
 "nbformat": 4,
 "nbformat_minor": 2
}
